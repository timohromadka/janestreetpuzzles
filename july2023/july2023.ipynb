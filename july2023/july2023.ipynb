{
 "cells": [
  {
   "cell_type": "code",
   "execution_count": 10,
   "metadata": {},
   "outputs": [],
   "source": [
    "import numpy as np\n",
    "import matplotlib.pyplot as plt"
   ]
  },
  {
   "cell_type": "code",
   "execution_count": 11,
   "metadata": {},
   "outputs": [
    {
     "data": {
      "image/png": "[encoded data removed]",
      "text/plain": [
       "<Figure size 1600x1000 with 1 Axes>"
      ]
     },
     "metadata": {},
     "output_type": "display_data"
    }
   ],
   "source": [
    "def display_grid(width, height):\n",
    "    grid = np.zeros((height, width), dtype=int)\n",
    "    grid[0, :] = grid[:, 0] = grid[-1, :] = grid[:, -1] = 2\n",
    "\n",
    "    fig, ax = plt.subplots(figsize=(16,10))\n",
    "    ax.imshow(grid, cmap='Greens')\n",
    "    ax.set_xticks(np.arange(-0.5, width, 1))\n",
    "    ax.set_yticks(np.arange(-0.5, height, 1))\n",
    "    ax.grid(color='green', linewidth=1)\n",
    "    ax.set_xticklabels([])\n",
    "    ax.set_yticklabels([])\n",
    "    plt.show()\n",
    "\n",
    "# Usage example\n",
    "display_grid(22, 14)\n"
   ]
  },
  {
   "cell_type": "code",
   "execution_count": 12,
   "metadata": {},
   "outputs": [
    {
     "name": "stdout",
     "output_type": "stream",
     "text": [
      "220\n"
     ]
    }
   ],
   "source": [
    "def knapSack(W, wt, val, n):\n",
    "    K = [[0 for w in range(W + 1)]\n",
    "            for i in range(n + 1)]\n",
    "             \n",
    "    # Build table K[][] in bottom up manner\n",
    "    for i in range(n + 1):\n",
    "        for w in range(W + 1):\n",
    "            if i == 0 or w == 0:\n",
    "                K[i][w] = 0\n",
    "            elif wt[i - 1] <= w:\n",
    "                K[i][w] = max(val[i - 1] \n",
    "                  + K[i - 1][w - wt[i - 1]],\n",
    "                               K[i - 1][w])\n",
    "            else:\n",
    "                K[i][w] = K[i - 1][w]\n",
    " \n",
    "    return K[n][W]\n",
    " \n",
    "\n",
    "# Driver code\n",
    "val = [60, 100, 120]\n",
    "wt = [10, 20, 30]\n",
    "W = 50\n",
    "n = len(val)\n",
    " \n",
    "print(knapSack(W, wt, val, n))"
   ]
  },
  {
   "cell_type": "code",
   "execution_count": 13,
   "metadata": {},
   "outputs": [],
   "source": [
    "matrix = [\n",
    "    [0,6,0,0,0,0,0],\n",
    "    [0,0,0,0,0,0,3],\n",
    "    [0,0,0,3,0,0,0],\n",
    "    [0,0,6,1,5,0,0],\n",
    "    [0,0,0,4,0,0,0],\n",
    "    [5,0,0,0,0,0,0],\n",
    "    [0,0,0,0,0,4,0]\n",
    "]"
   ]
  },
  {
   "cell_type": "code",
   "execution_count": 17,
   "metadata": {},
   "outputs": [],
   "source": [
    "import numpy as np\n",
    "\n",
    "def is_rectangular(region):\n",
    "    rows, cols = zip(*region)\n",
    "    return min(rows) <= max(rows) and min(cols) <= max(cols)\n",
    "\n",
    "def region_size(grid, row, col):\n",
    "    visited = np.full(grid.shape, False, dtype=bool)\n",
    "    stack = [(row, col)]\n",
    "    size = 0\n",
    "\n",
    "    while stack:\n",
    "        r, c = stack.pop()\n",
    "        if (0 <= r < grid.shape[0] and 0 <= c < grid.shape[1] and\n",
    "                not visited[r][c] and grid[r][c] != -1):\n",
    "            visited[r][c] = True\n",
    "            size += 1\n",
    "            stack.extend([(r-1, c), (r+1, c), (r, c-1), (r, c+1)])  # up, down, left, right\n",
    "\n",
    "    return size\n",
    "\n",
    "def find_regions(grid, value):\n",
    "    visited = np.full(grid.shape, False, dtype=bool)\n",
    "    regions = []\n",
    "    for r in range(grid.shape[0]):\n",
    "        for c in range(grid.shape[1]):\n",
    "            if grid[r][c] == value and not visited[r][c]:\n",
    "                stack = [(r, c)]\n",
    "                region = []\n",
    "                while stack:\n",
    "                    curr_r, curr_c = stack.pop()\n",
    "                    if (0 <= curr_r < grid.shape[0] and 0 <= curr_c < grid.shape[1] and\n",
    "                            not visited[curr_r][curr_c] and grid[curr_r][curr_c] == value):\n",
    "                        visited[curr_r][curr_c] = True\n",
    "                        region.append((curr_r, curr_c))\n",
    "                        stack.extend([(curr_r-1, curr_c), (curr_r+1, curr_c), (curr_r, curr_c-1), (curr_r, curr_c+1)])  # up, down, left, right\n",
    "                regions.append(region)\n",
    "    return regions\n",
    "\n",
    "def is_valid(grid, matrix):\n",
    "    for r in range(grid.shape[0]):\n",
    "        for c in range(grid.shape[1]):\n",
    "            if matrix[r][c] != 0 and matrix[r][c] != region_size(grid, r, c):\n",
    "                return False\n",
    "\n",
    "    shaded_regions = find_regions(grid, 1)\n",
    "    unshaded_regions = find_regions(grid, 0)\n",
    "\n",
    "    if any(is_rectangular(region) for region in unshaded_regions):\n",
    "        return False\n",
    "\n",
    "    if not all(is_rectangular(region) for region in shaded_regions):\n",
    "        return False\n",
    "\n",
    "    return True\n",
    "\n",
    "def solve(grid, matrix, row, col):\n",
    "    if row == grid.shape[0]:\n",
    "        return grid if is_valid(grid, matrix) else None\n",
    "\n",
    "    next_row, next_col = (row, col + 1) if col != grid.shape[1] - 1 else (row + 1, 0)\n",
    "\n",
    "    for cell_state in [0, 1]:  # 0 for unshaded, 1 for shaded\n",
    "        grid[row][col] = cell_state\n",
    "        if is_valid(grid, matrix):\n",
    "            result = solve(grid, next_row, next_col)\n",
    "            if result is not None:  # A valid grid was found\n",
    "                return result\n",
    "        grid[row][col] = -1  # Reset cell\n",
    "\n",
    "    return None  # No valid grid found from this point\n"
   ]
  },
  {
   "cell_type": "code",
   "execution_count": 18,
   "metadata": {},
   "outputs": [
    {
     "name": "stdout",
     "output_type": "stream",
     "text": [
      "No solution found.\n"
     ]
    }
   ],
   "source": [
    "matrix = np.array([\n",
    "    [0,6,0,0,0,0,0],\n",
    "    [0,0,0,0,0,0,3],\n",
    "    [0,0,0,3,0,0,0],\n",
    "    [0,0,6,1,5,0,0],\n",
    "    [0,0,0,4,0,0,0],\n",
    "    [5,0,0,0,0,0,0],\n",
    "    [0,0,0,0,0,4,0]\n",
    "])\n",
    "\n",
    "# Create an empty grid with -1 indicating unfilled cells\n",
    "grid = np.full(matrix.shape, -1, dtype=int)\n",
    "\n",
    "solution = solve(grid, matrix, 0, 0)\n",
    "\n",
    "if solution is not None:\n",
    "    print(\"Solution found:\")\n",
    "    print(solution)\n",
    "else:\n",
    "    print(\"No solution found.\")\n"
   ]
  },
  {
   "cell_type": "code",
   "execution_count": null,
   "metadata": {},
   "outputs": [],
   "source": []
  }
 ],
 "metadata": {
  "kernelspec": {
   "display_name": "jspuzzle_env",
   "language": "python",
   "name": "python3"
  },
  "language_info": {
   "codemirror_mode": {
    "name": "ipython",
    "version": 3
   },
   "file_extension": ".py",
   "mimetype": "text/x-python",
   "name": "python",
   "nbconvert_exporter": "python",
   "pygments_lexer": "ipython3",
   "version": "3.10.6"
  },
  "orig_nbformat": 4
 },
 "nbformat": 4,
 "nbformat_minor": 2
}
